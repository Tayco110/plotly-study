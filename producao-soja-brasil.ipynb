{
 "cells": [
  {
   "cell_type": "code",
   "execution_count": null,
   "metadata": {},
   "outputs": [],
   "source": [
    "#inports\n",
    "import plotly as plt\n",
    "import plotly.express as px\n",
    "import json\n",
    "from urllib.request import urlopen\n",
    "import pandas as pd"
   ]
  },
  {
   "cell_type": "code",
   "execution_count": null,
   "metadata": {},
   "outputs": [],
   "source": [
    "#lendo base de dados \n",
    "url = 'https://raw.githubusercontent.com/codeforamerica/click_that_hood/master/public/data/brazil-states.geojson' #url de exemplo\n",
    "response = urlopen(url)\n",
    "Brazil = json.load(response)"
   ]
  },
  {
   "cell_type": "code",
   "execution_count": null,
   "metadata": {},
   "outputs": [],
   "source": [
    "#criando um dicionário\n",
    "state_id_map = {}\n",
    "for feature in Brazil ['features']:\n",
    "    feature['id'] = feature['properties']['name']\n",
    "    state_id_map[feature['properties']['sigla']] = feature['id']"
   ]
  },
  {
   "cell_type": "code",
   "execution_count": null,
   "metadata": {},
   "outputs": [],
   "source": [
    "#dicionário\n",
    "state_id_map"
   ]
  },
  {
   "cell_type": "code",
   "execution_count": null,
   "metadata": {},
   "outputs": [],
   "source": [
    "#lendo um csv\n",
    "soybean = pd.read_csv('https://raw.githubusercontent.com/nayanemaia/Dataset_Soja/main/soja%20sidra.csv')\n",
    "print(soybean)"
   ]
  },
  {
   "cell_type": "code",
   "execution_count": null,
   "metadata": {},
   "outputs": [],
   "source": [
    "#montando a figura\n",
    "fig = px.choropleth(\n",
    " soybean, #soybean database\n",
    " locations = 'Estado', #define the limits on the map/geography\n",
    " geojson = Brazil, #shape information\n",
    " color = 'Produção', #defining the color of the scale through the database\n",
    " hover_name = 'Estado', #the information in the box\n",
    " hover_data =[\"Produção\",\"Longitude\",\"Latitude\"],\n",
    " title = \"Produtivida da soja (Toneladas)\", #title of the map\n",
    " animation_frame = 'ano' #creating the application based on the year\n",
    ")"
   ]
  },
  {
   "cell_type": "code",
   "execution_count": null,
   "metadata": {},
   "outputs": [],
   "source": [
    "#plotando a figura\n",
    "fig.update_geos(fitbounds = \"locations\", visible = False)\n",
    "fig.show()"
   ]
  }
 ],
 "metadata": {
  "kernelspec": {
   "display_name": "Python 3.10.7 64-bit",
   "language": "python",
   "name": "python3"
  },
  "language_info": {
   "codemirror_mode": {
    "name": "ipython",
    "version": 3
   },
   "file_extension": ".py",
   "mimetype": "text/x-python",
   "name": "python",
   "nbconvert_exporter": "python",
   "pygments_lexer": "ipython3",
   "version": "3.10.7"
  },
  "orig_nbformat": 4,
  "vscode": {
   "interpreter": {
    "hash": "5a7450cd130c3c23b271674dc90cf90c327daecf044a38130d7138f5cdac1d07"
   }
  }
 },
 "nbformat": 4,
 "nbformat_minor": 2
}
